# Import the modules
import numpy as np
import pandas as pd
from pathlib import Path
from sklearn.metrics import confusion_matrix, classification_report











# Read the CSV file from the Resources folder into a Pandas DataFrame
df_lending_data = pd.read_csv(
    Path("./Resources/lending_data.csv")
)

# Review the DataFrame
df_lending_data.head()





# Separate the data into labels and features

# Separate the y variable, the labels
y = df_lending_data['loan_status']

# Separate the X variable, the features
X = df_lending_data.drop(columns=['loan_status'])


# Review the y variable Series
print("Labels (y):")
print(y.head()) 


# Review the X variable DataFrame
X.head()





# Import the train_test_learn module
from sklearn.model_selection import train_test_split

# Split the data using train_test_split
# Assign a random_state of 1 to the function
X_train, X_test, y_train, y_test = train_test_split(X, y, test_size=0.2, random_state=1)











# Import the LogisticRegression module from SKLearn
from sklearn.linear_model import LogisticRegression

# Instantiate the Logistic Regression model
# Assign a random_state parameter of 1 to the model
model = LogisticRegression(random_state=1)

# Step 2: Fit the model using the training data
model.fit(X_train, y_train)

# The model is now trained and ready for predictions
print("Logistic Regression model has been successfully trained!")





# Make a prediction using the testing data
y_pred = model.predict(X_test)





# Generate a confusion matrix for the model
confusion = confusion_matrix(y_test, y_pred)
print("Confusion Matrix:")
print(confusion)


# Print the classification report for the model
report = classification_report(y_test, y_pred)
print("\nClassification Report:")
print(report)
print(f'The counts of Healthy Loan Status (0) and Loans with a high likelihood of default (1) are:')

# Show the final counts of the y array to show how many 0s and how many 1s were counted
print(y.value_counts())









